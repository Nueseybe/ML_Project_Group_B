{
 "cells": [
  {
   "attachments": {},
   "cell_type": "markdown",
   "metadata": {},
   "source": [
    "# Visualization"
   ]
  },
  {
   "cell_type": "code",
   "execution_count": 1,
   "metadata": {},
   "outputs": [],
   "source": [
    "import warnings\n",
    "warnings.simplefilter('ignore')\n",
    "\n",
    "import numpy as np\n",
    "import pandas as pd\n",
    "import seaborn as sns\n",
    "import matplotlib.pyplot as plt"
   ]
  },
  {
   "cell_type": "code",
   "execution_count": 2,
   "metadata": {},
   "outputs": [],
   "source": [
    "df = pd.read_csv(\"train.csv\")"
   ]
  },
  {
   "cell_type": "code",
   "execution_count": null,
   "metadata": {},
   "outputs": [],
   "source": []
  },
  {
   "attachments": {},
   "cell_type": "markdown",
   "metadata": {},
   "source": [
    "plot_piechart(\"room_type\") #pasta grafik"
   ]
  },
  {
   "cell_type": "code",
   "execution_count": null,
   "metadata": {},
   "outputs": [],
   "source": [
    "plot_catplot(\"room_type\", \"count\", 5, 2)   \n",
    "#sutun grafik ile datadaki room_type i karsilastirmis"
   ]
  },
  {
   "cell_type": "code",
   "execution_count": null,
   "metadata": {},
   "outputs": [],
   "source": [
    "plot_catplot(\"city\",\"count\", 5, 2)\n",
    "#sehirlerdeki ev sayilarini karsilastirmis"
   ]
  },
  {
   "cell_type": "code",
   "execution_count": null,
   "metadata": {},
   "outputs": [],
   "source": [
    "fig = plt.figure(figsize=(8,8))\n",
    "ax = fig.add_axes([0,0,1,1])\n",
    "ax.axis('equal')\n",
    "langs = list(df.city.unique())\n",
    "students =list(df.city.value_counts())\n",
    "ax.pie(students, labels = langs,autopct='%1.2f%%')\n",
    "plt.show()\n",
    "\n",
    "#sehirlerdeki ev sayilarini pasta grafikle karsilastirmis"
   ]
  },
  {
   "attachments": {},
   "cell_type": "markdown",
   "metadata": {},
   "source": [
    "LANGITUDE/latitude"
   ]
  },
  {
   "cell_type": "code",
   "execution_count": null,
   "metadata": {},
   "outputs": [],
   "source": [
    "#let's what we can do with our given longtitude and latitude columns\n",
    "\n",
    "#let's see how scatterplot will come out \n",
    "viz_4=sub_6.plot(kind='scatter', x='longitude', y='latitude', label='availability_365', c='price',\n",
    "                  cmap=plt.get_cmap('jet'), colorbar=True, alpha=0.4, figsize=(10,8))\n",
    "viz_4.legend()\n",
    "\n",
    "'ENLEM BOYLAMIN YANI KONUMUN FIYATA ETKISI'\n",
    "' https://www.kaggle.com/code/dgomonov/data-exploration-on-nyc-airbnb'"
   ]
  },
  {
   "cell_type": "code",
   "execution_count": null,
   "metadata": {},
   "outputs": [],
   "source": [
    "import urllib\n",
    "#initializing the figure size\n",
    "plt.figure(figsize=(10,8))\n",
    "#loading the png NYC image found on Google and saving to my local folder along with the project\n",
    "i=urllib.request.urlopen('https://upload.wikimedia.org/wikipedia/commons/e/ec/Neighbourhoods_New_York_City_Map.PNG')\n",
    "nyc_img=plt.imread(i)\n",
    "#scaling the image based on the latitude and longitude max and mins for proper output\n",
    "plt.imshow(nyc_img,zorder=0,extent=[-74.258, -73.7, 40.49,40.92])\n",
    "ax=plt.gca()\n",
    "#using scatterplot again\n",
    "sub_6.plot(kind='scatter', x='longitude', y='latitude', label='availability_365', c='price', ax=ax, \n",
    "           cmap=plt.get_cmap('jet'), colorbar=True, alpha=0.4, zorder=5)\n",
    "\n",
    "plt.legend()\n",
    "plt.show()\n",
    "\n",
    "\n",
    "'ENLEM BOYLAMIN YANI KONUMUN FIYATA ETKISI'\n",
    "' https://www.kaggle.com/code/dgomonov/data-exploration-on-nyc-airbnb'"
   ]
  },
  {
   "attachments": {},
   "cell_type": "markdown",
   "metadata": {},
   "source": [
    "NAME"
   ]
  },
  {
   "cell_type": "code",
   "execution_count": null,
   "metadata": {},
   "outputs": [],
   "source": [
    "#let's comeback now to the 'name' column as it will require litte bit more coding and continue to analyze it!\n",
    "\n",
    "#initializing empty list where we are going to put our name strings\n",
    "_names_=[]\n",
    "#getting name strings from the column and appending it to the list\n",
    "for name in airbnb.name:\n",
    "    _names_.append(name)\n",
    "#setting a function that will split those name strings into separate words   \n",
    "def split_name(name):\n",
    "    spl=str(name).split()\n",
    "    return spl\n",
    "#initializing empty list where we are going to have words counted\n",
    "_names_for_count_=[]\n",
    "#getting name string from our list and using split function, later appending to list above\n",
    "for x in _names_:\n",
    "    for word in split_name(x):\n",
    "        word=word.lower()\n",
    "        _names_for_count_.append(word)\n",
    "        \n",
    "# name sutunundaki kelimeleri incelemis\n",
    "#' https://www.kaggle.com/code/dgomonov/data-exploration-on-nyc-airbnb'\n"
   ]
  },
  {
   "cell_type": "code",
   "execution_count": null,
   "metadata": {},
   "outputs": [],
   "source": [
    "#we are going to use counter\n",
    "from collections import Counter\n",
    "#let's see top 25 used words by host to name their listing\n",
    "_top_25_w=Counter(_names_for_count_).most_common()\n",
    "_top_25_w=_top_25_w[0:25]"
   ]
  },
  {
   "cell_type": "code",
   "execution_count": null,
   "metadata": {},
   "outputs": [],
   "source": [
    "#now let's put our findings in dataframe for further visualizations\n",
    "sub_w=pd.DataFrame(_top_25_w)\n",
    "sub_w.rename(columns={0:'Words', 1:'Count'}, inplace=True)"
   ]
  },
  {
   "cell_type": "code",
   "execution_count": null,
   "metadata": {},
   "outputs": [],
   "source": [
    "#we are going to use barplot for this visualization\n",
    "viz_5=sns.barplot(x='Words', y='Count', data=sub_w)\n",
    "viz_5.set_title('Counts of the top 25 used words for listing names')\n",
    "viz_5.set_ylabel('Count of words')\n",
    "viz_5.set_xlabel('Words')\n",
    "viz_5.set_xticklabels(viz_5.get_xticklabels(), rotation=80)"
   ]
  },
  {
   "attachments": {},
   "cell_type": "markdown",
   "metadata": {},
   "source": [
    "log_prize"
   ]
  },
  {
   "cell_type": "code",
   "execution_count": null,
   "metadata": {},
   "outputs": [],
   "source": [
    "import seaborn as sns\n",
    "#histogram and normal probability plot\n",
    "sns.distplot(data['log_price'], fit=norm);\n",
    "fig = plt.figure()\n",
    "res = stats.probplot(data['log_price'], plot=plt)\n",
    "#skewness and kurtosis\n",
    "print(\"Skewness: %f\" % data['log_price'].skew())\n",
    "print(\"Kurtosis: %f\" % data['log_price'].kurt())\n",
    "\n",
    "#log_prize in histogram ile norrmal dagilimina bakmis .ayrica probablty plot ile de incelemis "
   ]
  },
  {
   "attachments": {},
   "cell_type": "markdown",
   "metadata": {},
   "source": [
    "bed_type "
   ]
  },
  {
   "cell_type": "code",
   "execution_count": null,
   "metadata": {},
   "outputs": [],
   "source": [
    "df['bed_type'].value_counts().sort_values(ascending=False).plot(kind='bar');"
   ]
  },
  {
   "attachments": {},
   "cell_type": "markdown",
   "metadata": {},
   "source": [
    "heatmap"
   ]
  },
  {
   "cell_type": "code",
   "execution_count": null,
   "metadata": {},
   "outputs": [],
   "source": [
    "num_attributes = df6.select_dtypes(include=['int64', 'float'])\n",
    "corr = num_attributes.corr(method='pearson').corr() # Pearson Corr\n",
    "mask = np.triu(corr) # Cleaner heatmap - Only plotting the lower triangle\n",
    "\n",
    "plt.figure(figsize=(20,10)) # Heatmap size\n",
    "sns.heatmap(corr, annot=True, mask=mask);\n",
    "\n",
    "# https://github.com/brunodifranco/project-airbnb-classification/blob/main/airbnb.ipynb"
   ]
  },
  {
   "attachments": {},
   "cell_type": "markdown",
   "metadata": {},
   "source": [
    "An interesting technique to use whenever categorical variable have many unique values is to check whether some variables have high correlation from one to another. It can be done via Cramér's V correlation matrix: "
   ]
  },
  {
   "cell_type": "code",
   "execution_count": null,
   "metadata": {},
   "outputs": [],
   "source": [
    "df6_cat_att = df6.select_dtypes(exclude=['int64', 'float', 'datetime64[ns]'])\n",
    "cramers_v_heatmap(df6_cat_att)"
   ]
  }
 ],
 "metadata": {
  "kernelspec": {
   "display_name": "Python 3",
   "language": "python",
   "name": "python3"
  },
  "language_info": {
   "codemirror_mode": {
    "name": "ipython",
    "version": 3
   },
   "file_extension": ".py",
   "mimetype": "text/x-python",
   "name": "python",
   "nbconvert_exporter": "python",
   "pygments_lexer": "ipython3",
   "version": "3.9.0rc2"
  },
  "orig_nbformat": 4
 },
 "nbformat": 4,
 "nbformat_minor": 2
}
