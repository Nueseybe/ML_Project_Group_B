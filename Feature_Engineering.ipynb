{
 "cells": [
  {
   "attachments": {},
   "cell_type": "markdown",
   "metadata": {},
   "source": [
    "# Feature_Engineering"
   ]
  },
  {
   "cell_type": "code",
   "execution_count": 1,
   "metadata": {},
   "outputs": [],
   "source": [
    "import warnings\n",
    "warnings.simplefilter('ignore')\n",
    "\n",
    "import numpy as np\n",
    "import pandas as pd\n",
    "import seaborn as sns\n",
    "import matplotlib.pyplot as plt"
   ]
  },
  {
   "cell_type": "code",
   "execution_count": null,
   "metadata": {},
   "outputs": [],
   "source": [
    "df = pd.read_csv(\"train.csv\")"
   ]
  },
  {
   "attachments": {},
   "cell_type": "markdown",
   "metadata": {},
   "source": [
    "'property_type'  sutununu 5 gruba ayirmis"
   ]
  },
  {
   "cell_type": "code",
   "execution_count": null,
   "metadata": {},
   "outputs": [],
   "source": [
    "dict1 = {'Apartment':['Condominium','Timeshare','Loft','Serviced apartment','Guest suite'],\n",
    "         'House':['Vacation home','Villa','Townhouse','In-law','Casa particular'],\n",
    "         'Hotel1':['Dorm','Hostel','Guesthouse'],\n",
    "         'Hotel2':['Boutique hotel','Bed & Breakfast'],\n",
    "         'Other':['Island','Castle','Yurt','Hut','Chalet','Treehouse',\n",
    "                  'Earth House','Tipi','Cave','Train','Parking Space','Lighthouse',\n",
    "                 'Tent','Boat','Cabin','Camper/RV','Bungalow']\n",
    "        }\n",
    "dict2 = {i : k for k, v in dict1.items() for i in v}\n",
    "data['property_type'].replace(dict2).value_counts()"
   ]
  },
  {
   "attachments": {},
   "cell_type": "markdown",
   "metadata": {},
   "source": [
    "mahalle sayisini 619 bulmus,city ye göre gruplamis ve mahalleyi drop etme karari almis\n",
    "\n",
    "city  neighbourhood\t\n",
    "Boston\t34\n",
    "Chicago\t80\n",
    "DC\t    116\n",
    "LA\t    157\n",
    "NYC\t   201\n",
    "SF\t   55"
   ]
  },
  {
   "cell_type": "code",
   "execution_count": null,
   "metadata": {},
   "outputs": [],
   "source": [
    "data['neighbourhood'].nunique()\n",
    "\n",
    "pd.DataFrame(data.groupby(['city'])['neighbourhood'].nunique())"
   ]
  },
  {
   "attachments": {},
   "cell_type": "markdown",
   "metadata": {},
   "source": [
    "one hat encoding yapacagi sutunlari bu sekilde secmis"
   ]
  },
  {
   "cell_type": "code",
   "execution_count": null,
   "metadata": {},
   "outputs": [],
   "source": [
    "#columns for get_dummies (one hot encoding)\n",
    "col_to_getdummies=['property_type','room_type','bed_type','cancellation_policy','city']\n",
    "\n",
    "#columns that won't be changed\n",
    "col_no_change=['accommodates','number_of_reviews']"
   ]
  }
 ],
 "metadata": {
  "kernelspec": {
   "display_name": "Python 3",
   "language": "python",
   "name": "python3"
  },
  "language_info": {
   "codemirror_mode": {
    "name": "ipython",
    "version": 3
   },
   "file_extension": ".py",
   "mimetype": "text/x-python",
   "name": "python",
   "nbconvert_exporter": "python",
   "pygments_lexer": "ipython3",
   "version": "3.10.11"
  },
  "orig_nbformat": 4
 },
 "nbformat": 4,
 "nbformat_minor": 2
}
