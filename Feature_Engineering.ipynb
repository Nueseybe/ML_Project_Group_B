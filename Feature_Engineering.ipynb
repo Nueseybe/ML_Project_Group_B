{
 "cells": [
  {
   "attachments": {},
   "cell_type": "markdown",
   "metadata": {},
   "source": [
    "# Feature_Engineering"
   ]
  },
  {
   "cell_type": "code",
   "execution_count": 1,
   "metadata": {},
   "outputs": [],
   "source": [
    "import warnings\n",
    "warnings.simplefilter('ignore')\n",
    "\n",
    "import numpy as np\n",
    "import pandas as pd\n",
    "import seaborn as sns\n",
    "import matplotlib.pyplot as plt"
   ]
  },
  {
   "cell_type": "code",
   "execution_count": null,
   "metadata": {},
   "outputs": [],
   "source": [
    "df = pd.read_csv(\"train.csv\")"
   ]
  },
  {
   "attachments": {},
   "cell_type": "markdown",
   "metadata": {},
   "source": [
    "# property_type"
   ]
  },
  {
   "attachments": {},
   "cell_type": "markdown",
   "metadata": {},
   "source": [
    "'property_type'  sutununu 5 gruba ayirmis"
   ]
  },
  {
   "cell_type": "code",
   "execution_count": null,
   "metadata": {},
   "outputs": [],
   "source": [
    "dict1 = {'Apartment':['Condominium','Timeshare','Loft','Serviced apartment','Guest suite'],\n",
    "         'House':['Vacation home','Villa','Townhouse','In-law','Casa particular'],\n",
    "         'Hotel1':['Dorm','Hostel','Guesthouse'],\n",
    "         'Hotel2':['Boutique hotel','Bed & Breakfast'],\n",
    "         'Other':['Island','Castle','Yurt','Hut','Chalet','Treehouse',\n",
    "                  'Earth House','Tipi','Cave','Train','Parking Space','Lighthouse',\n",
    "                 'Tent','Boat','Cabin','Camper/RV','Bungalow']\n",
    "        }\n",
    "dict2 = {i : k for k, v in dict1.items() for i in v}\n",
    "data['property_type'].replace(dict2).value_counts()"
   ]
  },
  {
   "attachments": {},
   "cell_type": "markdown",
   "metadata": {},
   "source": [
    "baska bir yol"
   ]
  },
  {
   "cell_type": "code",
   "execution_count": null,
   "metadata": {},
   "outputs": [],
   "source": [
    "# Replacing categories that are types of houses or apartments\n",
    "df.property_type.replace({\n",
    "    'Townhouse': 'House',\n",
    "    'Serviced apartment': 'Apartment',\n",
    "    'Loft': 'Apartment',\n",
    "    'Bungalow': 'House',\n",
    "    'Cottage': 'House',\n",
    "    'Villa': 'House',\n",
    "    'Tiny house': 'House',\n",
    "    'Earth house': 'House',\n",
    "    'Chalet': 'House'  \n",
    "    }, inplace=True)\n",
    "\n",
    "# Replacing other categories with 'other'\n",
    "df.loc[~df.property_type.isin(['House', 'Apartment']), 'property_type'] = 'Other'"
   ]
  },
  {
   "attachments": {},
   "cell_type": "markdown",
   "metadata": {},
   "source": [
    "# neighbourhood"
   ]
  },
  {
   "attachments": {},
   "cell_type": "markdown",
   "metadata": {},
   "source": [
    "mahalle sayisini 619 bulmus,city ye göre gruplamis ve mahalleyi drop etme karari almis\n",
    "\n",
    "city  neighbourhood\t\n",
    "Boston\t34\n",
    "Chicago\t80\n",
    "DC\t    116\n",
    "LA\t    157\n",
    "NYC\t   201\n",
    "SF\t   55"
   ]
  },
  {
   "cell_type": "code",
   "execution_count": null,
   "metadata": {},
   "outputs": [],
   "source": [
    "data['neighbourhood'].nunique()\n",
    "\n",
    "pd.DataFrame(data.groupby(['city'])['neighbourhood'].nunique())"
   ]
  },
  {
   "attachments": {},
   "cell_type": "markdown",
   "metadata": {},
   "source": [
    "one hat encoding yapacagi sutunlari bu sekilde secmis"
   ]
  },
  {
   "cell_type": "code",
   "execution_count": null,
   "metadata": {},
   "outputs": [],
   "source": [
    "#columns for get_dummies (one hot encoding)\n",
    "col_to_getdummies=['property_type','room_type','bed_type','cancellation_policy','city']\n",
    "\n",
    "#columns that won't be changed\n",
    "col_no_change=['accommodates','number_of_reviews']"
   ]
  },
  {
   "attachments": {},
   "cell_type": "markdown",
   "metadata": {},
   "source": [
    "# room_type"
   ]
  },
  {
   "attachments": {},
   "cell_type": "markdown",
   "metadata": {},
   "source": [
    "room type 3 ,2,1  diye numaralandirmis!"
   ]
  },
  {
   "cell_type": "code",
   "execution_count": null,
   "metadata": {},
   "outputs": [],
   "source": [
    "cleaned_data.room_type = cleaned_data.room_type.apply(lambda x: 3 if x=='Entire home/apt' else 2 if x=='Private room' else 1)"
   ]
  },
  {
   "attachments": {},
   "cell_type": "markdown",
   "metadata": {},
   "source": [
    "# bed_type"
   ]
  },
  {
   "attachments": {},
   "cell_type": "markdown",
   "metadata": {},
   "source": [
    "bed_type 2,1 olarak numaralandirmis!"
   ]
  },
  {
   "attachments": {},
   "cell_type": "markdown",
   "metadata": {},
   "source": [
    "Real Bed         78656\n",
    "Pull-out Sofa      448\n",
    "Futon              195\n",
    "Couch               74\n",
    "Airbed              50\n",
    "\n",
    "Most listings have the same bed type so this feature can be dropped\n",
    "\n",
    "verinin cogu ayni old icin drop etmis "
   ]
  },
  {
   "cell_type": "code",
   "execution_count": null,
   "metadata": {},
   "outputs": [],
   "source": [
    "df.bed_type.value_counts()\n",
    "df.drop('bed_type', axis=1, inplace=True)"
   ]
  },
  {
   "cell_type": "code",
   "execution_count": null,
   "metadata": {},
   "outputs": [],
   "source": [
    "cleaned_data.bed_type = cleaned_data.bed_type.apply(lambda x: 2 if x=='Real Bed' else 1)"
   ]
  },
  {
   "attachments": {},
   "cell_type": "markdown",
   "metadata": {},
   "source": [
    "# cancellation_policy "
   ]
  },
  {
   "attachments": {},
   "cell_type": "markdown",
   "metadata": {},
   "source": [
    "cancellation_policy  3,2,1 olarak numaralandirmis"
   ]
  },
  {
   "cell_type": "code",
   "execution_count": null,
   "metadata": {},
   "outputs": [],
   "source": [
    "cleaned_data.cancellation_policy = cleaned_data.cancellation_policy.apply(lambda x: 3 if x=='super_strict_60' else 2 if x=='super_strict_30' else 1)"
   ]
  },
  {
   "attachments": {},
   "cell_type": "markdown",
   "metadata": {},
   "source": [
    "future larin etkisini görmek icin..."
   ]
  },
  {
   "cell_type": "code",
   "execution_count": null,
   "metadata": {},
   "outputs": [],
   "source": [
    "plot_importance(model)"
   ]
  },
  {
   "attachments": {},
   "cell_type": "markdown",
   "metadata": {},
   "source": [
    "# host_since"
   ]
  },
  {
   "attachments": {},
   "cell_type": "markdown",
   "metadata": {},
   "source": [
    "ilk kayit oldugu tarihten gunumuze geen zamana göre kiyaslama yapabilmeyi bu sekilde yapmis"
   ]
  },
  {
   "cell_type": "code",
   "execution_count": null,
   "metadata": {},
   "outputs": [],
   "source": [
    "# Converting to datetime\n",
    "df.host_since = pd.to_datetime(df.host_since) \n",
    "\n",
    "# Calculating the number of days\n",
    "df['host_days_active'] = (datetime(2019, 4, 9) - df.host_since).astype('timedelta64[D]')\n",
    "\n",
    "# Printing mean and median\n",
    "print(\"Mean days as host:\", round(df['host_days_active'].mean(),0))\n",
    "print(\"Median days as host:\", df['host_days_active'].median())\n",
    "\n",
    "# Replacing null values with the median\n",
    "df.host_days_active.fillna(df.host_days_active.median(), inplace=True)"
   ]
  },
  {
   "attachments": {},
   "cell_type": "markdown",
   "metadata": {},
   "source": [
    "# host_response_rate"
   ]
  },
  {
   "attachments": {},
   "cell_type": "markdown",
   "metadata": {},
   "source": [
    "Bu işlemlerle df.host_response_rate sütunu kategorilere ayrılmış, eksik değerler 'unknown' olarak işaretlenmiş ve her bir kategoriye ait değerlerin sayıları hesaplanmıştır.\n",
    "\n",
    "100%       37730\n",
    "unknown    25699\n",
    "50-89%      7346\n",
    "90-99%      6519\n",
    "0-49%       2377\n",
    "\n",
    "bu sonuc alinmis"
   ]
  },
  {
   "cell_type": "code",
   "execution_count": null,
   "metadata": {},
   "outputs": [],
   "source": [
    "# Bin into four categories\n",
    "df.host_response_rate = pd.cut(df.host_response_rate, bins=[0, 50, 90, 99, 100], labels=['0-49%', '50-89%', '90-99%', '100%'], include_lowest=True)\n",
    "\n",
    "# Converting to string\n",
    "df.host_response_rate = df.host_response_rate.astype('str')\n",
    "\n",
    "# Replace nulls with 'unknown'\n",
    "df.host_response_rate.replace('nan', 'unknown', inplace=True)\n",
    "\n",
    "# Category counts\n",
    "df.host_response_rate.value_counts()"
   ]
  },
  {
   "attachments": {},
   "cell_type": "markdown",
   "metadata": {},
   "source": [
    "# amenities"
   ]
  },
  {
   "attachments": {},
   "cell_type": "markdown",
   "metadata": {},
   "source": [
    "'amenities' sütunu, dahil edilen hizmetlerin bir listesini içerir; yararlı olabilir, bu yüzden onu ayrıştıralım:"
   ]
  },
  {
   "cell_type": "code",
   "execution_count": null,
   "metadata": {},
   "outputs": [],
   "source": [
    "amenities = {x for xs in df_pd['amenities'].tolist() for x in xs}\n",
    "amenities.remove('')\n",
    "amenities.remove('translation missing: en.hosting_amenity_49')\n",
    "amenities.remove('translation missing: en.hosting_amenity_50')\n",
    "amenities = list(amenities)\n"
   ]
  },
  {
   "cell_type": "code",
   "execution_count": null,
   "metadata": {},
   "outputs": [],
   "source": [
    "amenities_df = pd.DataFrame(df_pd['amenities'].apply(lambda x: [amenity in x for amenity in amenities]).tolist(), columns=amenities, index=df_pd.index)\n",
    "amenities_df"
   ]
  },
  {
   "attachments": {},
   "cell_type": "markdown",
   "metadata": {},
   "source": [
    "amenities sütununun bar plot olarak gösterilmesi"
   ]
  },
  {
   "cell_type": "code",
   "execution_count": null,
   "metadata": {},
   "outputs": [],
   "source": [
    "amenities_df.astype('float').sum().sort_values(ascending=False)[:30].plot.bar()"
   ]
  },
  {
   "attachments": {},
   "cell_type": "markdown",
   "metadata": {},
   "source": [
    "amenities sutunundaki degerler"
   ]
  },
  {
   "cell_type": "code",
   "execution_count": null,
   "metadata": {},
   "outputs": [],
   "source": [
    "# Creating a set of all possible amenities\n",
    "amenities_list = list(df.amenities)\n",
    "amenities_list_string = \" \".join(amenities_list)\n",
    "amenities_list_string = amenities_list_string.replace('{', '')\n",
    "amenities_list_string = amenities_list_string.replace('}', ',')\n",
    "amenities_list_string = amenities_list_string.replace('\"', '')\n",
    "amenities_set = [x.strip() for x in amenities_list_string.split(',')]\n",
    "amenities_set = set(amenities_set)\n",
    "amenities_set"
   ]
  },
  {
   "cell_type": "code",
   "execution_count": null,
   "metadata": {},
   "outputs": [],
   "source": [
    "df.loc[df['amenities'].str.contains('24-hour check-in'), 'check_in_24h'] = 1\n",
    "df.loc[df['amenities'].str.contains('Air conditioning|Central air conditioning'), 'air_conditioning'] = 1\n",
    "df.loc[df['amenities'].str.contains('Amazon Echo|Apple TV|Game console|Netflix|Projector and screen|Smart TV'), 'high_end_electronics'] = 1\n",
    "df.loc[df['amenities'].str.contains('BBQ grill|Fire pit|Propane barbeque'), 'bbq'] = 1\n",
    "df.loc[df['amenities'].str.contains('Balcony|Patio'), 'balcony'] = 1\n",
    "df.loc[df['amenities'].str.contains('Beach view|Beachfront|Lake access|Mountain view|Ski-in/Ski-out|Waterfront'), 'nature_and_views'] = 1\n",
    "df.loc[df['amenities'].str.contains('Bed linens'), 'bed_linen'] = 1\n",
    "df.loc[df['amenities'].str.contains('Breakfast'), 'breakfast'] = 1\n",
    "df.loc[df['amenities'].str.contains('TV'), 'tv'] = 1\n",
    "df.loc[df['amenities'].str.contains('Coffee maker|Espresso machine'), 'coffee_machine'] = 1\n",
    "df.loc[df['amenities'].str.contains('Cooking basics'), 'cooking_basics'] = 1\n",
    "df.loc[df['amenities'].str.contains('Dishwasher|Dryer|Washer'), 'white_goods'] = 1\n",
    "df.loc[df['amenities'].str.contains('Elevator'), 'elevator'] = 1\n",
    "df.loc[df['amenities'].str.contains('Exercise equipment|Gym|gym'), 'gym'] = 1\n",
    "df.loc[df['amenities'].str.contains('Family/kid friendly|Children|children'), 'child_friendly'] = 1\n",
    "df.loc[df['amenities'].str.contains('parking'), 'parking'] = 1\n",
    "df.loc[df['amenities'].str.contains('Garden|Outdoor|Sun loungers|Terrace'), 'outdoor_space'] = 1\n",
    "df.loc[df['amenities'].str.contains('Host greets you'), 'host_greeting'] = 1\n",
    "df.loc[df['amenities'].str.contains('Hot tub|Jetted tub|hot tub|Sauna|Pool|pool'), 'hot_tub_sauna_or_pool'] = 1\n",
    "df.loc[df['amenities'].str.contains('Internet|Pocket wifi|Wifi'), 'internet'] = 1\n",
    "df.loc[df['amenities'].str.contains('Long term stays allowed'), 'long_term_stays'] = 1\n",
    "df.loc[df['amenities'].str.contains('Pets|pet|Cat(s)|Dog(s)'), 'pets_allowed'] = 1\n",
    "df.loc[df['amenities'].str.contains('Private entrance'), 'private_entrance'] = 1\n",
    "df.loc[df['amenities'].str.contains('Safe|Security system'), 'secure'] = 1\n",
    "df.loc[df['amenities'].str.contains('Self check-in'), 'self_check_in'] = 1\n",
    "df.loc[df['amenities'].str.contains('Smoking allowed'), 'smoking_allowed'] = 1\n",
    "df.loc[df['amenities'].str.contains('Step-free access|Wheelchair|Accessible'), 'accessible'] = 1\n",
    "df.loc[df['amenities'].str.contains('Suitable for events'), 'event_suitable'] = 1\n",
    "\n",
    "#https://github.com/L-Lewis/Airbnb-neural-network-price-prediction/blob/master/Airbnb-price-prediction.ipynb"
   ]
  },
  {
   "cell_type": "code",
   "execution_count": null,
   "metadata": {},
   "outputs": [],
   "source": [
    "# Replacing nulls with zeros for new columns\n",
    "cols_to_replace_nulls = df.iloc[:,41:].columns\n",
    "df[cols_to_replace_nulls] = df[cols_to_replace_nulls].fillna(0)\n",
    "\n",
    "# Produces a list of amenity features where one category (true or false) contains fewer than 10% of listings\n",
    "infrequent_amenities = []\n",
    "for col in df.iloc[:,41:].columns:\n",
    "    if df[col].sum() < len(df)/10:\n",
    "        infrequent_amenities.append(col)\n",
    "print(infrequent_amenities)\n",
    "\n",
    "# Dropping infrequent amenity features\n",
    "df.drop(infrequent_amenities, axis=1, inplace=True)\n",
    "\n",
    "# Dropping the original amenity feature\n",
    "df.drop('amenities', axis=1, inplace=True)\n",
    "\n",
    "df.columns[40:]\n",
    "\n",
    "\n",
    "\n",
    "#https://github.com/L-Lewis/Airbnb-neural-network-price-prediction/blob/master/Airbnb-price-prediction.ipynb"
   ]
  },
  {
   "attachments": {},
   "cell_type": "markdown",
   "metadata": {},
   "source": []
  },
  {
   "attachments": {},
   "cell_type": "markdown",
   "metadata": {},
   "source": [
    "About a quarter of listings have not had a review written for them. This is too large a proportion of the dataset to drop, and dropping the columns would lose a lot of useful information - reviews are very important in people's decisions to book, and therefore price.\n",
    "\n",
    "This is also too large a proportion of the dataset to simply replace with median/mean values, as this would skew the distribution substantially. Also, the missing values here are not really missing values, as the fact that they are NaNs is meaningful - it tells us that these are new or previously unbooked listings that have not had reviews yet. In order to make the resulting model work able to predict prices for any Airbnb listing, including brand new listings, is is actually beneficial to keep them in. Therefore, these will be kept as an 'unknown' category, and the feature will have to be treated as categorical (and therefore one-hot encoded) rather than numerical.\n",
    "\n",
    "Bu aynı zamanda, dağılımı büyük ölçüde çarpıtacağından, basitçe ortanca/ortalama değerlerle değiştirilemeyecek kadar büyük bir veri kümesi oranıdır. Ayrıca, buradaki eksik değerler gerçekten eksik değerler değildir, çünkü NaN'ler olmaları anlamlıdır - bu bize bunların yeni veya önceden rezerve edilmemiş ve henüz inceleme yapılmamış listeler olduğunu söyler. Ortaya çıkan modelin, yepyeni kayıtlar da dahil olmak üzere herhangi bir Airbnb kaydının fiyatlarını tahmin edebilecek şekilde çalışmasını sağlamak için, onları içeride tutmak aslında faydalıdır. Bu nedenle, bunlar 'bilinmeyen' bir kategori olarak tutulacak ve özellik, sayısaldan ziyade kategorik (ve bu nedenle bir sıcak kodlanmış) olarak ele alınmalıdır."
   ]
  },
  {
   "cell_type": "code",
   "execution_count": null,
   "metadata": {},
   "outputs": [],
   "source": [
    "print(f\"Null values in 'first_review': {round(100*df.first_review.isna().sum()/len(df),1)}%\")\n",
    "print(f\"Null values in 'review_scores_rating': {round(100*df.review_scores_rating .isna().sum()/len(df),1)}%\")"
   ]
  },
  {
   "cell_type": "code",
   "execution_count": null,
   "metadata": {},
   "outputs": [],
   "source": [
    "df.first_review = pd.to_datetime(df.first_review) # Converting to datetime\n",
    "\n",
    "# Calculating the number of days between the first review and the date the data was scraped\n",
    "df['time_since_first_review'] = (datetime(2019, 4, 9) - df.first_review).astype('timedelta64[D]')"
   ]
  },
  {
   "cell_type": "code",
   "execution_count": null,
   "metadata": {},
   "outputs": [],
   "source": [
    "# Distribution of the number of days since first review\n",
    "df.time_since_first_review.hist(figsize=(15,5), bins=30);"
   ]
  },
  {
   "cell_type": "markdown",
   "metadata": {},
   "source": []
  },
  {
   "cell_type": "code",
   "execution_count": null,
   "metadata": {},
   "outputs": [],
   "source": [
    "# Plotting feature importances\n",
    "plt.figure(figsize=(8,20))\n",
    "plt.barh(ft_weights_xgb_reg.index, ft_weights_xgb_reg.weight, align='center') \n",
    "plt.title(\"Feature importances in the XGBoost model\", fontsize=14)\n",
    "plt.xlabel(\"Feature importance\")\n",
    "plt.margins(y=0.01)\n",
    "plt.show()"
   ]
  }
 ],
 "metadata": {
  "kernelspec": {
   "display_name": "Python 3",
   "language": "python",
   "name": "python3"
  },
  "language_info": {
   "codemirror_mode": {
    "name": "ipython",
    "version": 3
   },
   "file_extension": ".py",
   "mimetype": "text/x-python",
   "name": "python",
   "nbconvert_exporter": "python",
   "pygments_lexer": "ipython3",
   "version": "3.10.11"
  },
  "orig_nbformat": 4
 },
 "nbformat": 4,
 "nbformat_minor": 2
}
