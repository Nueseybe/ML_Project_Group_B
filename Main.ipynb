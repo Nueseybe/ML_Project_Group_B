{
 "cells": [
  {
   "attachments": {},
   "cell_type": "markdown",
   "metadata": {},
   "source": [
    "# Introduction\n",
    "We are working with a dataset that contains information about Airbnb listings in the US. Our goal is to predict the price of a stay in these listings. The dataset consists of 74411 listings and 29 columns. One of the columns, log_price, is the target variable that we are trying to predict\n",
    "\n",
    "# 6 ve 7 nci kısımlar yapıldıkça güncellenecek!\n",
    "\n",
    "<font color = 'yellow'>\n",
    "Content: \n",
    "\n",
    "1. [Load and Check Data](#1)\n",
    "1. [Variable Description](#2)\n",
    "    * [Univariate Variable Analysis](#3)\n",
    "        * [Categorical Variable](#4)\n",
    "        * [Numerical Variable](#5)\n",
    "1. [Basic Data Analysis](#6)\n",
    "1. [Outlier Detection](#7)\n",
    "1. [Missing Value](#8)\n",
    "    * [Find Missing Value](#9)\n",
    "    * [Fill Missing Value](#10)\n",
    "1. [Visualization](#11)\n",
    "    * [Correlation Between Sibsp -- Parch -- Age -- Fare -- Survived](#12)\n",
    "    * [SibSp -- Survived](#13)\n",
    "    * [Parch -- Survived](#14)\n",
    "    * [Pclass -- Survived](#15)\n",
    "    * [Age -- Survived](#16)\n",
    "    * [Pclass -- Survived -- Age](#17)\n",
    "    * [Embarked -- Sex -- Pclass -- Survived](#18)\n",
    "    * [Embarked -- Sex -- Fare -- Survived](#19)\n",
    "    * [Fill Missing: Age Feature](#20)\n",
    "1. [Feature Engineering](#21)\n",
    "    * [Name -- Title](#22)\n",
    "    * [Family Size](#23)\n",
    "    * [Embarked](#24)\n",
    "    * [Ticket](#25)\n",
    "    * [Pclass](#26)\n",
    "    * [Sex](#27)\n",
    "    * [Drop Passenger ID and Cabin](#28)\n",
    "1. [Modeling](#29)\n",
    "    * [Train - Test Split](#30)\n",
    "    * [Simple Logistic Regression](#31)\n",
    "    * [Hyperparameter Tuning -- Grid Search -- Cross Validation](#32) \n",
    "    * [Ensemble Modeling](#33)\n",
    "    * [Prediction and Submission](#34)"
   ]
  },
  {
   "cell_type": "code",
   "execution_count": null,
   "metadata": {},
   "outputs": [],
   "source": [
    "# This Python 3 environment comes with many helpful analytics libraries installed\n",
    "# It is defined by the kaggle/python docker image: https://github.com/kaggle/docker-python\n",
    "# For example, here's several helpful packages to load in \n",
    "\n",
    "import numpy as np # linear algebra\n",
    "import pandas as pd # data processing, CSV file I/O (e.g. pd.read_csv)\n",
    "\n",
    "import matplotlib.pyplot as plt\n",
    "plt.style.use(\"seaborn-whitegrid\")\n",
    "\n",
    "import seaborn as sns\n",
    "\n",
    "from collections import Counter\n",
    "\n",
    "import warnings\n",
    "warnings.filterwarnings(\"ignore\", category=UserWarning)\n",
    "\n",
    "# Input data files are available in the \"../input/\" directory.\n",
    "# For example, running this (by clicking run or pressing Shift+Enter) will list all files under the input directory\n",
    "\n",
    "import os\n",
    "for dirname, _, filenames in os.walk(''):\n",
    "    for filename in filenames:\n",
    "        print(os.path.join(dirname, filename))\n",
    "\n",
    "# Any results you write to the current directory are saved as output."
   ]
  },
  {
   "attachments": {},
   "cell_type": "markdown",
   "metadata": {},
   "source": [
    "1. <a id = \"1\"></a><br>\n",
    "# Load and Check Data"
   ]
  },
  {
   "cell_type": "code",
   "execution_count": null,
   "metadata": {},
   "outputs": [],
   "source": [
    "cwd = os.getcwd()  # your current working directory (cwd)\n",
    "files = os.listdir(cwd)  # This will Get all the files in that directory\n",
    "print(\"Files in %r: %s\" % (cwd, files))"
   ]
  },
  {
   "cell_type": "code",
   "execution_count": null,
   "metadata": {},
   "outputs": [],
   "source": [
    "df = pd.read_csv('train.csv')"
   ]
  },
  {
   "cell_type": "code",
   "execution_count": null,
   "metadata": {},
   "outputs": [],
   "source": [
    "df.columns"
   ]
  },
  {
   "cell_type": "code",
   "execution_count": null,
   "metadata": {},
   "outputs": [],
   "source": [
    "pd.set_option('display.max_columns', len(df.columns)) # To view all columns\n",
    "pd.set_option('display.max_rows', 100)"
   ]
  },
  {
   "cell_type": "code",
   "execution_count": null,
   "metadata": {},
   "outputs": [],
   "source": [
    "df.head()"
   ]
  },
  {
   "cell_type": "code",
   "execution_count": null,
   "metadata": {},
   "outputs": [],
   "source": [
    "df.describe()"
   ]
  },
  {
   "attachments": {},
   "cell_type": "markdown",
   "metadata": {},
   "source": [
    "<a id = \"2\"></a><br>\n",
    "# Variable Description\n",
    "# Yazılacak!!!\n",
    "1. Id: \n",
    "\n",
    "2. log_price:0,.....7,6         0....4,78....7,6  (min,mean,max)\n",
    "\n",
    "3. property_type: Apartment, House, Condominium, Loft, Townhouse, Hostel, Guest suite, Bed & Breakfast, Bungalow, Guesthouse, Dorm, Other, Camper/RV, Villa, Boutique hotel, Timeshare, In-law, Boat, Serviced apartment, Castle, Cabin, Treehouse, Tipi, Vacation home, Tent, Hut, Casa particular, Chalet, Yurt, Earth House, Parking Space, Train, Cave, Lighthouse, Island\n",
    "4. room_type: Entire home/apt, Private room, Shared room\n",
    "\n",
    "5. amenities:   TV Cable_TV Wireless_Internet Air_conditioning Kitchen Breakfast Buzzer_wireless_intercom Heating Family_kid_friendly Smoke_detector Carbon_monoxide_detector Fire_extinguisher Essentials Shampoo Hangers Hair_dryer Iron Laptop_friendly_workspace translation_missing__en_hosting_amenity_50\n",
    "\n",
    "6. accommodates:1,2,3.....16             1...3,15....16  (min,mean,max)\n",
    "\n",
    "7. bathrooms:0,1,2,....8       1....1,23....8 (min,mean,max)\n",
    "\n",
    "8. bed_type:   Real Bed, Futon, Pull-out Sofa, Couch, Airbed \n",
    "\n",
    "9. cancellation_policy: strict, moderate, flexible, super_strict_30, super_strict_60\n",
    "\n",
    "10. cleaning_fee:True, False\n",
    "\n",
    "11. city:  NYC, SF, DC, LA, Chicago, Boston  \n",
    "\n",
    "12. description:\n",
    "\n",
    "13. first_review:  date\n",
    "\n",
    "14. host_has_profile_pic:   t, nan, f\n",
    "\n",
    "15. host_identity_verified:  t, nan, f\n",
    "\n",
    "16. host_response_rate:nan, 100%, 71%, 68%, 67%, 83%, 50%, 90%, 86%, 92%, 82%, 80%, 89%, 93%, 99%, 0%, 88%, 96%, 70%, 94%, 91%, 25%, 95%, 98%, 62%, 29%, 33%, 81%, 63%, 38%, 60%, 79%, 78%, 75%, 65%, 97%, 87%, 40%, 54%, 53%, 58%, 76%, 30%, 64%, 17%, 20%, 77%, 73%, 41%, 59%, 57%, 85%, 56%, 42%, 44%, 35%, 14%, 74%, 27%, 10%, 84%, 6%, 72%, 36%, 55%, 43%, 13%, 39%, 46%, 26%, 61%, 52%, 23%, 22%, 69%, 66%, 15%, 11%, 31%, 21%, 47%\n",
    "\n",
    "17. host_since: date\n",
    "\n",
    "18. instant_bookable:  f, t\n",
    "\n",
    "19. last_review: date\n",
    "\n",
    "20. latitude: enlem\n",
    "\n",
    "21. longitude:  boylam\n",
    "\n",
    "22. name:\n",
    "\n",
    "23. neighbourhood: mahalle\n",
    "\n",
    "24. number_of_reviews: toplam inceleme sayisi             0,..20,05...605(min,mean,max)\n",
    "\n",
    "25. review_scores_rating:    degerlendirme/oylama puani   20...94,06..100 (min,mean,max)\n",
    "\n",
    "26. thumbnail_url:   photos\n",
    "\n",
    "27. zipcode:  post kod\n",
    "\n",
    "28. bedrooms: 0,1,2,3,.....,10\n",
    "\n",
    "29. beds: 0,1,2,3,...18"
   ]
  },
  {
   "cell_type": "code",
   "execution_count": null,
   "metadata": {},
   "outputs": [],
   "source": [
    "df.info()"
   ]
  },
  {
   "attachments": {},
   "cell_type": "markdown",
   "metadata": {},
   "source": [
    "* bool(1): 'cleaning_fee'\n",
    "* int64(3): 'id', 'accommodates', 'number_of_reviews'\n",
    "* float64(7): 'log_price', 'bathrooms', 'latitude', 'longitude','review_scores_rating', 'bedrooms', 'beds'\n",
    "* object(18): 'property_type', 'room_type', 'amenities', 'bed_type','cancellation_policy', 'city', 'description', 'first_review',\n",
    "       'host_has_profile_pic', 'host_identity_verified', 'host_response_rate','host_since', 'instant_bookable', 'last_review', 'name',\n",
    "       'neighbourhood', 'thumbnail_url', 'zipcode'\n"
   ]
  },
  {
   "cell_type": "code",
   "execution_count": null,
   "metadata": {},
   "outputs": [],
   "source": [
    "pd.set_option('display.max_colwidth', 0)\n",
    "df[['property_type','room_type','bed_type','cancellation_policy',\n",
    "      'cleaning_fee','city','host_has_profile_pic','host_identity_verified',\n",
    "     'host_response_rate','instant_bookable','neighbourhood']].agg(['unique']).transpose()"
   ]
  },
  {
   "cell_type": "code",
   "execution_count": null,
   "metadata": {},
   "outputs": [],
   "source": [
    "#check colums  with values\n",
    "index= [\"host_response_rate\",\"property_type\", \"room_type\",\"accommodates\",\"bathrooms\",\"bed_type\", \"cancellation_policy\", \"cleaning_fee\",\n",
    "       \"city\",\"instant_bookable\", \"beds\", \"bedrooms\", \"neighbourhood\",\"first_review\", \"last_review\",\"zipcode\",\n",
    "       \"name\",\"host_since\",\"thumbnail_url\", \"latitude\", \"longitude\", \n",
    "        \"host_has_profile_pic\", \"host_identity_verified\"]\n",
    "\n",
    "for i in index:\n",
    "    \n",
    "    print(df[i].value_counts(), \"\\n\")\n",
    "    print(\"---------------------------------------------------------------\")"
   ]
  },
  {
   "attachments": {},
   "cell_type": "markdown",
   "metadata": {},
   "source": [
    "bed_type\n",
    "Real Bed         72028\n",
    "Futon              753\n",
    "Pull-out Sofa      585\n",
    "Airbed             477\n",
    "Couch              268\n",
    "Name: count, dtype: int64    real bed ve digerleri....."
   ]
  }
 ],
 "metadata": {
  "kernelspec": {
   "display_name": "Python 3",
   "language": "python",
   "name": "python3"
  },
  "language_info": {
   "codemirror_mode": {
    "name": "ipython",
    "version": 3
   },
   "file_extension": ".py",
   "mimetype": "text/x-python",
   "name": "python",
   "nbconvert_exporter": "python",
   "pygments_lexer": "ipython3",
   "version": "3.9.13"
  },
  "orig_nbformat": 4
 },
 "nbformat": 4,
 "nbformat_minor": 2
}
